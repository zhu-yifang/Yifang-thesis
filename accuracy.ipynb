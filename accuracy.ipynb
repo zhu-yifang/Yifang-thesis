{
 "cells": [
  {
   "cell_type": "code",
   "execution_count": 32,
   "metadata": {},
   "outputs": [
    {
     "ename": "ValueError",
     "evalue": "The truth value of a Series is ambiguous. Use a.empty, a.bool(), a.item(), a.any() or a.all().",
     "output_type": "error",
     "traceback": [
      "\u001b[0;31m---------------------------------------------------------------------------\u001b[0m",
      "\u001b[0;31mValueError\u001b[0m                                Traceback (most recent call last)",
      "\u001b[1;32m/Users/zhuyifang/Downloads/Yifang-thesis/accuracy.ipynb Cell 1\u001b[0m in \u001b[0;36m8\n\u001b[1;32m      <a href='vscode-notebook-cell:/Users/zhuyifang/Downloads/Yifang-thesis/accuracy.ipynb#W0sZmlsZQ%3D%3D?line=4'>5</a>\u001b[0m prediction_res[\u001b[39m'\u001b[39m\u001b[39mtop1_hit\u001b[39m\u001b[39m'\u001b[39m] \u001b[39m=\u001b[39m prediction_res[\u001b[39m'\u001b[39m\u001b[39mTrue phone\u001b[39m\u001b[39m'\u001b[39m] \u001b[39m==\u001b[39m prediction_res[\u001b[39m'\u001b[39m\u001b[39m1st predicted phone\u001b[39m\u001b[39m'\u001b[39m]\n\u001b[1;32m      <a href='vscode-notebook-cell:/Users/zhuyifang/Downloads/Yifang-thesis/accuracy.ipynb#W0sZmlsZQ%3D%3D?line=5'>6</a>\u001b[0m \u001b[39m# add a new variable top1_hit to prediction_res\u001b[39;00m\n\u001b[1;32m      <a href='vscode-notebook-cell:/Users/zhuyifang/Downloads/Yifang-thesis/accuracy.ipynb#W0sZmlsZQ%3D%3D?line=6'>7</a>\u001b[0m \u001b[39m# where top1_hit is true if the true phone is the same as the 2st predicted phone or top1_hit = True\u001b[39;00m\n\u001b[0;32m----> <a href='vscode-notebook-cell:/Users/zhuyifang/Downloads/Yifang-thesis/accuracy.ipynb#W0sZmlsZQ%3D%3D?line=7'>8</a>\u001b[0m prediction_res[\u001b[39m'\u001b[39m\u001b[39mtop2_hit\u001b[39m\u001b[39m'\u001b[39m] \u001b[39m=\u001b[39m prediction_res[\u001b[39m'\u001b[39m\u001b[39mTrue phone\u001b[39m\u001b[39m'\u001b[39m] \u001b[39m==\u001b[39m prediction_res[\u001b[39m'\u001b[39m\u001b[39m2nd predicted phone\u001b[39m\u001b[39m'\u001b[39m] \u001b[39mor\u001b[39;00m prediction_res[\u001b[39m'\u001b[39m\u001b[39mtop1_hit\u001b[39m\u001b[39m'\u001b[39m]\n\u001b[1;32m      <a href='vscode-notebook-cell:/Users/zhuyifang/Downloads/Yifang-thesis/accuracy.ipynb#W0sZmlsZQ%3D%3D?line=8'>9</a>\u001b[0m prediction_res[\u001b[39m'\u001b[39m\u001b[39mtop3_hit\u001b[39m\u001b[39m'\u001b[39m] \u001b[39m=\u001b[39m prediction_res[\u001b[39m'\u001b[39m\u001b[39mTrue phone\u001b[39m\u001b[39m'\u001b[39m] \u001b[39m==\u001b[39m prediction_res[\u001b[39m'\u001b[39m\u001b[39m3rd predicted phone\u001b[39m\u001b[39m'\u001b[39m] \u001b[39mor\u001b[39;00m prediction_res[\u001b[39m'\u001b[39m\u001b[39mtop2_hit\u001b[39m\u001b[39m'\u001b[39m]\n\u001b[1;32m     <a href='vscode-notebook-cell:/Users/zhuyifang/Downloads/Yifang-thesis/accuracy.ipynb#W0sZmlsZQ%3D%3D?line=9'>10</a>\u001b[0m prediction_res[\u001b[39m'\u001b[39m\u001b[39mtop4_hit\u001b[39m\u001b[39m'\u001b[39m] \u001b[39m=\u001b[39m prediction_res[\u001b[39m'\u001b[39m\u001b[39mTrue phone\u001b[39m\u001b[39m'\u001b[39m] \u001b[39m==\u001b[39m prediction_res[\u001b[39m'\u001b[39m\u001b[39m4th predicted phone\u001b[39m\u001b[39m'\u001b[39m] \u001b[39mor\u001b[39;00m prediction_res[\u001b[39m'\u001b[39m\u001b[39mtop3_hit\u001b[39m\u001b[39m'\u001b[39m]\n",
      "File \u001b[0;32m/Library/Frameworks/Python.framework/Versions/3.10/lib/python3.10/site-packages/pandas/core/generic.py:1466\u001b[0m, in \u001b[0;36mNDFrame.__nonzero__\u001b[0;34m(self)\u001b[0m\n\u001b[1;32m   1464\u001b[0m \u001b[39m@final\u001b[39m\n\u001b[1;32m   1465\u001b[0m \u001b[39mdef\u001b[39;00m \u001b[39m__nonzero__\u001b[39m(\u001b[39mself\u001b[39m) \u001b[39m-\u001b[39m\u001b[39m>\u001b[39m NoReturn:\n\u001b[0;32m-> 1466\u001b[0m     \u001b[39mraise\u001b[39;00m \u001b[39mValueError\u001b[39;00m(\n\u001b[1;32m   1467\u001b[0m         \u001b[39mf\u001b[39m\u001b[39m\"\u001b[39m\u001b[39mThe truth value of a \u001b[39m\u001b[39m{\u001b[39;00m\u001b[39mtype\u001b[39m(\u001b[39mself\u001b[39m)\u001b[39m.\u001b[39m\u001b[39m__name__\u001b[39m\u001b[39m}\u001b[39;00m\u001b[39m is ambiguous. \u001b[39m\u001b[39m\"\u001b[39m\n\u001b[1;32m   1468\u001b[0m         \u001b[39m\"\u001b[39m\u001b[39mUse a.empty, a.bool(), a.item(), a.any() or a.all().\u001b[39m\u001b[39m\"\u001b[39m\n\u001b[1;32m   1469\u001b[0m     )\n",
      "\u001b[0;31mValueError\u001b[0m: The truth value of a Series is ambiguous. Use a.empty, a.bool(), a.item(), a.any() or a.all()."
     ]
    }
   ],
   "source": [
    "import pandas as pd\n",
    "# read results/1.0_train_size.csv\n",
    "prediction_res = pd.read_csv('results/1.0_train_size.csv')\n",
    "\n",
    "prediction_res['top1_hit'] = prediction_res['True phone'] == prediction_res['1st predicted phone']\n",
    "# add a new variable top1_hit to prediction_res\n",
    "# where top1_hit is true if the true phone is the same as the 2st predicted phone or top1_hit = True\n",
    "prediction_res['top2_hit'] = prediction_res['True phone'] == prediction_res['2nd predicted phone'] or prediction_res['top1_hit']\n",
    "prediction_res['top3_hit'] = prediction_res['True phone'] == prediction_res['3rd predicted phone'] or prediction_res['top2_hit']\n",
    "prediction_res['top4_hit'] = prediction_res['True phone'] == prediction_res['4th predicted phone'] or prediction_res['top3_hit']\n",
    "prediction_res['top5_hit'] = prediction_res['True phone'] == prediction_res['5th predicted phone'] or prediction_res['top4_hit']\n",
    "prediction_res"
   ]
  }
 ],
 "metadata": {
  "kernelspec": {
   "display_name": "Python 3",
   "language": "python",
   "name": "python3"
  },
  "language_info": {
   "codemirror_mode": {
    "name": "ipython",
    "version": 3
   },
   "file_extension": ".py",
   "mimetype": "text/x-python",
   "name": "python",
   "nbconvert_exporter": "python",
   "pygments_lexer": "ipython3",
   "version": "3.10.7"
  },
  "orig_nbformat": 4
 },
 "nbformat": 4,
 "nbformat_minor": 2
}
