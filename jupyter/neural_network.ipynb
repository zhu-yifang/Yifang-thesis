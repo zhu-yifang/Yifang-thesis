{
 "cells": [
  {
   "cell_type": "markdown",
   "metadata": {},
   "source": [
    "In this file, I am going to implement a phone recognizer by neural network."
   ]
  },
  {
   "cell_type": "markdown",
   "metadata": {},
   "source": [
    "First thing is to get the training and testing data. In the documentation of TIMIT database, there is a section called \"Core Test Set\", which contains 192 utterances from 24 speakers. I am going to use this set as my test set now for the purpose of speed. I will use the whole TIMIT database as my test set later.\n",
    "\n",
    "Here is a table of core test set:\n",
    "\n",
    "| Dialect |    Male    | Female | #Texts/Speaker | #Total Texts |\n",
    "|---------|:----------:|:------:|:--------------:|:------------:|\n",
    "|    1    | DAB0, WBT0 |  ELC0  |       8        |      24      |\n",
    "|    2    | TAS1, WEW0 |  PAS0  |       8        |      24      |\n",
    "|    3    | JMP0, LNT0 |  PKT0  |       8        |      24      |\n",
    "|    4    | LLL0, TLS0 |  JLM0  |       8        |      24      |\n",
    "|    5    | BPM0, KLT0 |  NLP0  |       8        |      24      |\n",
    "|    6    | CMJ0, JDH0 |  MGD0  |       8        |      24      |\n",
    "|    7    | GRT0, NJM0 |  DHC0  |       8        |      24      |\n",
    "|    8    | JLN0, PAM0 |  MLD0  |       8        |      24      |\n",
    "|  Total  |     16     |   8    |                |     192      |\n",
    "\n",
    "The metadata (like file name, speaker id, etc.) of the training and testing data are stored in the file `train_data.csv` and `test_data.csv`. So the first thing is to load these two files.\n"
   ]
  },
  {
   "cell_type": "code",
   "execution_count": 2,
   "metadata": {},
   "outputs": [],
   "source": [
    "import os  # for environment variables\n",
    "import pandas as pd\n",
    "from pathlib import Path\n",
    "import librosa  # for audio processing\n",
    "import numpy as np\n",
    "import sounddevice as sd  # for audio playing\n",
    "from python_speech_features import mfcc  # for MFCC feature extraction"
   ]
  },
  {
   "cell_type": "code",
   "execution_count": 3,
   "metadata": {},
   "outputs": [
    {
     "data": {
      "text/html": [
       "<div>\n",
       "<style scoped>\n",
       "    .dataframe tbody tr th:only-of-type {\n",
       "        vertical-align: middle;\n",
       "    }\n",
       "\n",
       "    .dataframe tbody tr th {\n",
       "        vertical-align: top;\n",
       "    }\n",
       "\n",
       "    .dataframe thead th {\n",
       "        text-align: right;\n",
       "    }\n",
       "</style>\n",
       "<table border=\"1\" class=\"dataframe\">\n",
       "  <thead>\n",
       "    <tr style=\"text-align: right;\">\n",
       "      <th></th>\n",
       "      <th>index</th>\n",
       "      <th>test_or_train</th>\n",
       "      <th>dialect_region</th>\n",
       "      <th>speaker_id</th>\n",
       "      <th>filename</th>\n",
       "      <th>path_from_data_dir</th>\n",
       "      <th>path_from_data_dir_windows</th>\n",
       "      <th>is_converted_audio</th>\n",
       "      <th>is_audio</th>\n",
       "      <th>is_word_file</th>\n",
       "      <th>is_phonetic_file</th>\n",
       "      <th>is_sentence_file</th>\n",
       "    </tr>\n",
       "  </thead>\n",
       "  <tbody>\n",
       "    <tr>\n",
       "      <th>0</th>\n",
       "      <td>1.0</td>\n",
       "      <td>TRAIN</td>\n",
       "      <td>DR4</td>\n",
       "      <td>MMDM0</td>\n",
       "      <td>SI681.WAV.wav</td>\n",
       "      <td>TRAIN/DR4/MMDM0/SI681.WAV.wav</td>\n",
       "      <td>TRAIN\\\\DR4\\\\MMDM0\\\\SI681.WAV.wav</td>\n",
       "      <td>True</td>\n",
       "      <td>True</td>\n",
       "      <td>False</td>\n",
       "      <td>False</td>\n",
       "      <td>False</td>\n",
       "    </tr>\n",
       "    <tr>\n",
       "      <th>1</th>\n",
       "      <td>2.0</td>\n",
       "      <td>TRAIN</td>\n",
       "      <td>DR4</td>\n",
       "      <td>MMDM0</td>\n",
       "      <td>SI1311.PHN</td>\n",
       "      <td>TRAIN/DR4/MMDM0/SI1311.PHN</td>\n",
       "      <td>TRAIN\\\\DR4\\\\MMDM0\\\\SI1311.PHN</td>\n",
       "      <td>False</td>\n",
       "      <td>False</td>\n",
       "      <td>False</td>\n",
       "      <td>True</td>\n",
       "      <td>False</td>\n",
       "    </tr>\n",
       "    <tr>\n",
       "      <th>2</th>\n",
       "      <td>3.0</td>\n",
       "      <td>TRAIN</td>\n",
       "      <td>DR4</td>\n",
       "      <td>MMDM0</td>\n",
       "      <td>SI1311.WRD</td>\n",
       "      <td>TRAIN/DR4/MMDM0/SI1311.WRD</td>\n",
       "      <td>TRAIN\\\\DR4\\\\MMDM0\\\\SI1311.WRD</td>\n",
       "      <td>False</td>\n",
       "      <td>False</td>\n",
       "      <td>True</td>\n",
       "      <td>False</td>\n",
       "      <td>False</td>\n",
       "    </tr>\n",
       "    <tr>\n",
       "      <th>3</th>\n",
       "      <td>4.0</td>\n",
       "      <td>TRAIN</td>\n",
       "      <td>DR4</td>\n",
       "      <td>MMDM0</td>\n",
       "      <td>SX321.PHN</td>\n",
       "      <td>TRAIN/DR4/MMDM0/SX321.PHN</td>\n",
       "      <td>TRAIN\\\\DR4\\\\MMDM0\\\\SX321.PHN</td>\n",
       "      <td>False</td>\n",
       "      <td>False</td>\n",
       "      <td>False</td>\n",
       "      <td>True</td>\n",
       "      <td>False</td>\n",
       "    </tr>\n",
       "    <tr>\n",
       "      <th>4</th>\n",
       "      <td>5.0</td>\n",
       "      <td>TRAIN</td>\n",
       "      <td>DR4</td>\n",
       "      <td>MMDM0</td>\n",
       "      <td>SX321.WRD</td>\n",
       "      <td>TRAIN/DR4/MMDM0/SX321.WRD</td>\n",
       "      <td>TRAIN\\\\DR4\\\\MMDM0\\\\SX321.WRD</td>\n",
       "      <td>False</td>\n",
       "      <td>False</td>\n",
       "      <td>True</td>\n",
       "      <td>False</td>\n",
       "      <td>False</td>\n",
       "    </tr>\n",
       "  </tbody>\n",
       "</table>\n",
       "</div>"
      ],
      "text/plain": [
       "   index test_or_train dialect_region speaker_id       filename   \n",
       "0    1.0         TRAIN            DR4      MMDM0  SI681.WAV.wav  \\\n",
       "1    2.0         TRAIN            DR4      MMDM0     SI1311.PHN   \n",
       "2    3.0         TRAIN            DR4      MMDM0     SI1311.WRD   \n",
       "3    4.0         TRAIN            DR4      MMDM0      SX321.PHN   \n",
       "4    5.0         TRAIN            DR4      MMDM0      SX321.WRD   \n",
       "\n",
       "              path_from_data_dir        path_from_data_dir_windows   \n",
       "0  TRAIN/DR4/MMDM0/SI681.WAV.wav  TRAIN\\\\DR4\\\\MMDM0\\\\SI681.WAV.wav  \\\n",
       "1     TRAIN/DR4/MMDM0/SI1311.PHN     TRAIN\\\\DR4\\\\MMDM0\\\\SI1311.PHN   \n",
       "2     TRAIN/DR4/MMDM0/SI1311.WRD     TRAIN\\\\DR4\\\\MMDM0\\\\SI1311.WRD   \n",
       "3      TRAIN/DR4/MMDM0/SX321.PHN      TRAIN\\\\DR4\\\\MMDM0\\\\SX321.PHN   \n",
       "4      TRAIN/DR4/MMDM0/SX321.WRD      TRAIN\\\\DR4\\\\MMDM0\\\\SX321.WRD   \n",
       "\n",
       "  is_converted_audio is_audio is_word_file is_phonetic_file is_sentence_file  \n",
       "0               True     True        False            False            False  \n",
       "1              False    False        False             True            False  \n",
       "2              False    False         True            False            False  \n",
       "3              False    False        False             True            False  \n",
       "4              False    False         True            False            False  "
      ]
     },
     "execution_count": 3,
     "metadata": {},
     "output_type": "execute_result"
    }
   ],
   "source": [
    "# Load `train_data.csv` and `test_data.csv` as pandas `DataFrames`\n",
    "TIMIT = Path(os.environ[\"TIMIT\"])\n",
    "train_data = pd.read_csv(TIMIT / \"train_data.csv\")\n",
    "test_data = pd.read_csv(TIMIT / \"test_data.csv\")\n",
    "\n",
    "# Take a look at the first few rows of `train_data`\n",
    "train_data.head()"
   ]
  },
  {
   "cell_type": "markdown",
   "metadata": {},
   "source": [
    "From the first few lines of `train_data.csv`, we can see that the data is stored in the following format:\n",
    "`index, test_or_train, dialect_region, speaker_id, filename, path_from_data_dir, path_from_data_dir_windows, is_converted_audio, is_audio, is_word_file, is_phonetic_file, is_sentence_file`\n",
    "\n",
    "Here is a brief explanation of each column:\n",
    "- `index`: the index of the data\n",
    "- `test_or_train`: whether the data is in the test set or the training set\n",
    "- `dialect_region`: the dialect region of the speaker\n",
    "- `speaker_id`: the id of the speaker\n",
    "- `filename`: the filename of the data\n",
    "- `path_from_data_dir`: the path of the data from the `data` directory\n",
    "- `path_from_data_dir_windows`: the path of the data from the `data` directory in Windows\n",
    "- `is_converted_audio`: whether the data is converted to `.wav` format\n",
    "- `is_audio`: whether the data is audio\n",
    "- `is_word_file`: whether the data is a word file\n",
    "- `is_phonetic_file`: whether the data is a phonetic file\n",
    "- `is_sentence_file`: whether the data is a sentence file\n",
    "\n",
    "Since we only care about phonetic information, the file types we care about are `.phn` and `.wav`. The columns to filter them are `is_converted_audio` and `is_phonetic_file`. For finding files, the important column is `path_from_data_dir`. For the `test_data.csv`, since we want to have a core test set, the `speaker_id` is also important."
   ]
  },
  {
   "cell_type": "code",
   "execution_count": 4,
   "metadata": {},
   "outputs": [],
   "source": [
    "# First, deal with the training set\n",
    "\n",
    "# Get the rows where `is_converted_audio` or `is_phonetic_file` equal to `true`\n",
    "train_data = train_data[\n",
    "    (train_data[\"is_converted_audio\"] == True)\n",
    "    | (train_data[\"is_phonetic_file\"] == True)\n",
    "]\n",
    "\n",
    "# Have a `Series` of the paths without extensions to the files\n",
    "train_path_no_ext = train_data[\"path_from_data_dir\"].str.split(\".\").str[0]\n",
    "train_path_no_ext.drop_duplicates(inplace=True)\n",
    "# Reset the index of `train_path_no_ext`\n",
    "train_path_no_ext.reset_index(drop=True, inplace=True)\n",
    "\n",
    "# Now do the same thing to get the path_no_ext for the test set\n",
    "# First, filter the `speaker_id`, the speakers in the core test set are MDAB0, MWBT0, FELC0, MTAS1, MWEW0, FPAS0, MJMP0, MLNT0, FPKT0, MLLL0, MTLS0, FJLM0, MBPM0, MKLT0, FNLP0, MCMJ0, MJDH0, FMGD0, MGRT0, MNJM0, FDHC0, MJLN0, MPAM0, FMLD0\n",
    "test_data = test_data[\n",
    "    test_data[\"speaker_id\"].isin(\n",
    "        [\n",
    "            \"MDAB0\",\n",
    "            \"MWBT0\",\n",
    "            \"FELC0\",\n",
    "            \"MTAS1\",\n",
    "            \"MWEW0\",\n",
    "            \"FPAS0\",\n",
    "            \"MJMP0\",\n",
    "            \"MLNT0\",\n",
    "            \"FPKT0\",\n",
    "            \"MLLL0\",\n",
    "            \"MTLS0\",\n",
    "            \"FJLM0\",\n",
    "            \"MBPM0\",\n",
    "            \"MKLT0\",\n",
    "            \"FNLP0\",\n",
    "            \"MCMJ0\",\n",
    "            \"MJDH0\",\n",
    "            \"FMGD0\",\n",
    "            \"MGRT0\",\n",
    "            \"MNJM0\",\n",
    "            \"FDHC0\",\n",
    "            \"MJLN0\",\n",
    "            \"MPAM0\",\n",
    "            \"FMLD0\",\n",
    "        ]\n",
    "    )\n",
    "]"
   ]
  },
  {
   "cell_type": "code",
   "execution_count": 5,
   "metadata": {},
   "outputs": [
    {
     "name": "stdout",
     "output_type": "stream",
     "text": [
      "50       TEST/DR4/MTLS0/SX290\n",
      "51        TEST/DR4/MTLS0/SX20\n",
      "52       TEST/DR4/MTLS0/SI740\n",
      "53      TEST/DR4/MTLS0/SI2000\n",
      "54       TEST/DR4/MTLS0/SX110\n",
      "                ...          \n",
      "8357     TEST/DR8/MPAM0/SX109\n",
      "8359    TEST/DR8/MPAM0/SI1189\n",
      "8361     TEST/DR8/MPAM0/SX379\n",
      "8367       TEST/DR8/MPAM0/SA1\n",
      "8368       TEST/DR8/MPAM0/SA2\n",
      "Name: path_from_data_dir, Length: 240, dtype: object\n"
     ]
    }
   ],
   "source": [
    "test_path_no_ext = (\n",
    "    test_data[\"path_from_data_dir\"].str.split(\".\").str[0].drop_duplicates()\n",
    ")\n",
    "print(test_path_no_ext)"
   ]
  },
  {
   "cell_type": "markdown",
   "metadata": {},
   "source": [
    "Now we've got the paths of the data we want. The next step is to load the data. For `.wav` files, we can use `librosa.load` to read the data. For `.phn` files, it's pretty much just text files with the format `start_time end_time phoneme new_line`, so we can use `numpy.loadtxt` to read the data."
   ]
  },
  {
   "cell_type": "code",
   "execution_count": 6,
   "metadata": {},
   "outputs": [],
   "source": [
    "# Creating a new dataframe to store the information of the training set\n",
    "train_data_new = pd.DataFrame(\n",
    "    columns=[\n",
    "        \"class\",\n",
    "        \"phonetic_transcription\",\n",
    "        \"wav_array\",\n",
    "    ]\n",
    ")\n",
    "\n",
    "wavs = []\n",
    "transcriptions = []\n",
    "# Iterate through the rows of `train_path_no_ext`\n",
    "for path_no_ext in train_path_no_ext:\n",
    "    wav_path = TIMIT / \"data\" / Path(path_no_ext + \".WAV.wav\")\n",
    "    wav, samplerate = librosa.load(\n",
    "        wav_path, sr=None\n",
    "    )  # set `sr=None` to get the original sampling rate\n",
    "    phn_path = TIMIT / \"data\" / Path(path_no_ext + \".phn\")\n",
    "    with open(phn_path, \"r\") as f:\n",
    "        for line in f:\n",
    "            start, end, transcription = line.split()\n",
    "            start, end = int(start), int(end)\n",
    "            wavs.append(wav[start:end])\n",
    "            transcriptions.append(transcription)\n",
    "# Concat `wavs` and `transcriptions` to `train_data_new`\n",
    "train_data_new = pd.concat(\n",
    "    [\n",
    "        train_data_new,\n",
    "        pd.DataFrame({\"wav_array\": wavs, \"phonetic_transcription\": transcriptions}),\n",
    "    ],\n",
    "    ignore_index=True,\n",
    ")"
   ]
  },
  {
   "cell_type": "code",
   "execution_count": 7,
   "metadata": {},
   "outputs": [
    {
     "data": {
      "text/html": [
       "<div>\n",
       "<style scoped>\n",
       "    .dataframe tbody tr th:only-of-type {\n",
       "        vertical-align: middle;\n",
       "    }\n",
       "\n",
       "    .dataframe tbody tr th {\n",
       "        vertical-align: top;\n",
       "    }\n",
       "\n",
       "    .dataframe thead th {\n",
       "        text-align: right;\n",
       "    }\n",
       "</style>\n",
       "<table border=\"1\" class=\"dataframe\">\n",
       "  <thead>\n",
       "    <tr style=\"text-align: right;\">\n",
       "      <th></th>\n",
       "      <th>class</th>\n",
       "      <th>phonetic_transcription</th>\n",
       "      <th>wav_array</th>\n",
       "    </tr>\n",
       "  </thead>\n",
       "  <tbody>\n",
       "    <tr>\n",
       "      <th>0</th>\n",
       "      <td>NaN</td>\n",
       "      <td>h#</td>\n",
       "      <td>[-0.00021362305, 6.1035156e-05, 3.0517578e-05,...</td>\n",
       "    </tr>\n",
       "    <tr>\n",
       "      <th>1</th>\n",
       "      <td>NaN</td>\n",
       "      <td>w</td>\n",
       "      <td>[0.0002746582, 0.00033569336, 0.00024414062, 0...</td>\n",
       "    </tr>\n",
       "    <tr>\n",
       "      <th>2</th>\n",
       "      <td>NaN</td>\n",
       "      <td>ix</td>\n",
       "      <td>[-0.0026245117, -0.0028076172, -0.0032043457, ...</td>\n",
       "    </tr>\n",
       "    <tr>\n",
       "      <th>3</th>\n",
       "      <td>NaN</td>\n",
       "      <td>dcl</td>\n",
       "      <td>[-0.00064086914, -0.000579834, -0.00061035156,...</td>\n",
       "    </tr>\n",
       "    <tr>\n",
       "      <th>4</th>\n",
       "      <td>NaN</td>\n",
       "      <td>s</td>\n",
       "      <td>[-0.0033569336, 0.0012207031, -0.00033569336, ...</td>\n",
       "    </tr>\n",
       "  </tbody>\n",
       "</table>\n",
       "</div>"
      ],
      "text/plain": [
       "  class phonetic_transcription   \n",
       "0   NaN                     h#  \\\n",
       "1   NaN                      w   \n",
       "2   NaN                     ix   \n",
       "3   NaN                    dcl   \n",
       "4   NaN                      s   \n",
       "\n",
       "                                           wav_array  \n",
       "0  [-0.00021362305, 6.1035156e-05, 3.0517578e-05,...  \n",
       "1  [0.0002746582, 0.00033569336, 0.00024414062, 0...  \n",
       "2  [-0.0026245117, -0.0028076172, -0.0032043457, ...  \n",
       "3  [-0.00064086914, -0.000579834, -0.00061035156,...  \n",
       "4  [-0.0033569336, 0.0012207031, -0.00033569336, ...  "
      ]
     },
     "execution_count": 7,
     "metadata": {},
     "output_type": "execute_result"
    }
   ],
   "source": [
    "# Take a look at the first few rows of `train_data_new`\n",
    "train_data_new.head()"
   ]
  },
  {
   "cell_type": "code",
   "execution_count": 8,
   "metadata": {},
   "outputs": [
    {
     "name": "stdout",
     "output_type": "stream",
     "text": [
      "uh\n"
     ]
    }
   ],
   "source": [
    "# Randomly sample 1 row from `train_data_new` and given the transcription, play the audio\n",
    "row = train_data_new.sample(1)\n",
    "sd.play(row[\"wav_array\"].values[0], samplerate=16000)\n",
    "print(row[\"phonetic_transcription\"].values[0])\n"
   ]
  },
  {
   "cell_type": "code",
   "execution_count": 9,
   "metadata": {},
   "outputs": [
    {
     "name": "stdout",
     "output_type": "stream",
     "text": [
      "Mean length of `wav_array`: 1279.5690140049694\n",
      "Standard deviation of `wav_array`: 1016.2359232286784\n"
     ]
    }
   ],
   "source": [
    "# Calculate the mean length of the `wav_array`\n",
    "print(f\"Mean length of `wav_array`: {train_data_new['wav_array'].apply(len).mean()}\")\n",
    "# Calculate the standard deviation of the length of the `wav_array`\n",
    "print(f\"Standard deviation of `wav_array`: {train_data_new['wav_array'].apply(len).std()}\")"
   ]
  },
  {
   "cell_type": "code",
   "execution_count": 10,
   "metadata": {},
   "outputs": [
    {
     "data": {
      "text/plain": [
       "<AxesSubplot: >"
      ]
     },
     "execution_count": 10,
     "metadata": {},
     "output_type": "execute_result"
    },
    {
     "data": {
      "image/png": "[encoded data removed]",
      "text/plain": [
       "<Figure size 640x480 with 1 Axes>"
      ]
     },
     "metadata": {},
     "output_type": "display_data"
    }
   ],
   "source": [
    "# Visualize the distribution of the length of `way_array`, and make the x-axis range from 0 to 6000\n",
    "train_data_new[\"wav_array\"].apply(len).hist(range=[0, 10000], bins=100)"
   ]
  },
  {
   "cell_type": "code",
   "execution_count": 11,
   "metadata": {},
   "outputs": [],
   "source": [
    "# To make all the features with the same length, we need to use `librosa` to stretch or shrink the `wav_array` to the same length. Because the mean length of `wav_array` is 1279.5, we will stretch the `wav_array` to the length of 1024. And add a new column `wav_array_stretched` to `train_data_new` to store the stretched `wav_array`\n",
    "def stretch_signal(signal):\n",
    "    # Set n_fft to be no larger than the length of the signal\n",
    "    n_fft = min(len(signal), 512)  # or some other value that is appropriate for your data\n",
    "    return librosa.effects.time_stretch(signal, rate=(len(signal) / 1024), n_fft=n_fft)\n",
    "\n",
    "train_data_new[\"wav_array_stretched\"] = train_data_new[\"wav_array\"].apply(stretch_signal)"
   ]
  },
  {
   "cell_type": "code",
   "execution_count": 12,
   "metadata": {},
   "outputs": [
    {
     "data": {
      "text/html": [
       "<div>\n",
       "<style scoped>\n",
       "    .dataframe tbody tr th:only-of-type {\n",
       "        vertical-align: middle;\n",
       "    }\n",
       "\n",
       "    .dataframe tbody tr th {\n",
       "        vertical-align: top;\n",
       "    }\n",
       "\n",
       "    .dataframe thead th {\n",
       "        text-align: right;\n",
       "    }\n",
       "</style>\n",
       "<table border=\"1\" class=\"dataframe\">\n",
       "  <thead>\n",
       "    <tr style=\"text-align: right;\">\n",
       "      <th></th>\n",
       "      <th>class</th>\n",
       "      <th>phonetic_transcription</th>\n",
       "      <th>wav_array</th>\n",
       "      <th>wav_array_stretched</th>\n",
       "    </tr>\n",
       "  </thead>\n",
       "  <tbody>\n",
       "    <tr>\n",
       "      <th>0</th>\n",
       "      <td>NaN</td>\n",
       "      <td>h#</td>\n",
       "      <td>[-0.00021362305, 6.1035156e-05, 3.0517578e-05,...</td>\n",
       "      <td>[-0.00019364445, 5.1276224e-05, 2.9005332e-05,...</td>\n",
       "    </tr>\n",
       "    <tr>\n",
       "      <th>1</th>\n",
       "      <td>NaN</td>\n",
       "      <td>w</td>\n",
       "      <td>[0.0002746582, 0.00033569336, 0.00024414062, 0...</td>\n",
       "      <td>[0.00024678966, 0.00030001946, 0.00020417714, ...</td>\n",
       "    </tr>\n",
       "    <tr>\n",
       "      <th>2</th>\n",
       "      <td>NaN</td>\n",
       "      <td>ix</td>\n",
       "      <td>[-0.0026245117, -0.0028076172, -0.0032043457, ...</td>\n",
       "      <td>[-0.0026235995, -0.0028057476, -0.00320173, -0...</td>\n",
       "    </tr>\n",
       "    <tr>\n",
       "      <th>3</th>\n",
       "      <td>NaN</td>\n",
       "      <td>dcl</td>\n",
       "      <td>[-0.00064086914, -0.000579834, -0.00061035156,...</td>\n",
       "      <td>[-0.00064856844, -0.00059573905, -0.00062759, ...</td>\n",
       "    </tr>\n",
       "    <tr>\n",
       "      <th>4</th>\n",
       "      <td>NaN</td>\n",
       "      <td>s</td>\n",
       "      <td>[-0.0033569336, 0.0012207031, -0.00033569336, ...</td>\n",
       "      <td>[-0.004305704, 0.0014972175, -0.00016100431, -...</td>\n",
       "    </tr>\n",
       "  </tbody>\n",
       "</table>\n",
       "</div>"
      ],
      "text/plain": [
       "  class phonetic_transcription   \n",
       "0   NaN                     h#  \\\n",
       "1   NaN                      w   \n",
       "2   NaN                     ix   \n",
       "3   NaN                    dcl   \n",
       "4   NaN                      s   \n",
       "\n",
       "                                           wav_array   \n",
       "0  [-0.00021362305, 6.1035156e-05, 3.0517578e-05,...  \\\n",
       "1  [0.0002746582, 0.00033569336, 0.00024414062, 0...   \n",
       "2  [-0.0026245117, -0.0028076172, -0.0032043457, ...   \n",
       "3  [-0.00064086914, -0.000579834, -0.00061035156,...   \n",
       "4  [-0.0033569336, 0.0012207031, -0.00033569336, ...   \n",
       "\n",
       "                                 wav_array_stretched  \n",
       "0  [-0.00019364445, 5.1276224e-05, 2.9005332e-05,...  \n",
       "1  [0.00024678966, 0.00030001946, 0.00020417714, ...  \n",
       "2  [-0.0026235995, -0.0028057476, -0.00320173, -0...  \n",
       "3  [-0.00064856844, -0.00059573905, -0.00062759, ...  \n",
       "4  [-0.004305704, 0.0014972175, -0.00016100431, -...  "
      ]
     },
     "execution_count": 12,
     "metadata": {},
     "output_type": "execute_result"
    }
   ],
   "source": [
    "# Take a look at the first few rows of `train_data_new`\n",
    "train_data_new.head()"
   ]
  },
  {
   "cell_type": "code",
   "execution_count": 13,
   "metadata": {},
   "outputs": [
    {
     "name": "stdout",
     "output_type": "stream",
     "text": [
      "ax\n"
     ]
    }
   ],
   "source": [
    "# Randomly sample 1 row from `train_data_new` and given the transcription, play the audio\n",
    "row = train_data_new.sample(1)\n",
    "sd.play(row[\"wav_array_stretched\"].values[0], samplerate=16000)\n",
    "print(row[\"phonetic_transcription\"].values[0])\n"
   ]
  },
  {
   "cell_type": "code",
   "execution_count": 14,
   "metadata": {},
   "outputs": [
    {
     "data": {
      "text/plain": [
       "0         1024\n",
       "1         1024\n",
       "2         1024\n",
       "3         1024\n",
       "4         1024\n",
       "          ... \n",
       "177075    1024\n",
       "177076    1024\n",
       "177077    1024\n",
       "177078    1024\n",
       "177079    1024\n",
       "Name: wav_array_stretched, Length: 177080, dtype: int64"
      ]
     },
     "execution_count": 14,
     "metadata": {},
     "output_type": "execute_result"
    }
   ],
   "source": [
    "# Take a look at the length of the `wav_array_stretched`\n",
    "train_data_new[\"wav_array_stretched\"].apply(len)"
   ]
  },
  {
   "cell_type": "code",
   "execution_count": 15,
   "metadata": {},
   "outputs": [],
   "source": [
    "# Calculate the MFCC of the `wav_array_stretched`\n",
    "train_data_new[\"mfcc\"] = train_data_new[\"wav_array_stretched\"].apply(\n",
    "    lambda x: mfcc(x, samplerate=16000)\n",
    ")"
   ]
  },
  {
   "cell_type": "code",
   "execution_count": 16,
   "metadata": {},
   "outputs": [
    {
     "data": {
      "text/plain": [
       "0    [[-14.141403380124403, -32.142537287740325, -6...\n",
       "1    [[-11.325372929549259, 11.79059675707445, 3.64...\n",
       "2    [[-8.633501664529303, 5.725676477768363, -9.82...\n",
       "3    [[-11.588682391507778, -23.473268289222037, 2....\n",
       "4    [[-4.460912743378205, -47.43519524861441, 13.6...\n",
       "Name: mfcc, dtype: object"
      ]
     },
     "execution_count": 16,
     "metadata": {},
     "output_type": "execute_result"
    }
   ],
   "source": [
    "# Take a look at the first few mfccs\n",
    "train_data_new[\"mfcc\"].head()"
   ]
  },
  {
   "cell_type": "code",
   "execution_count": 17,
   "metadata": {},
   "outputs": [
    {
     "data": {
      "text/plain": [
       "0    (5, 13)\n",
       "1    (5, 13)\n",
       "2    (5, 13)\n",
       "3    (5, 13)\n",
       "4    (5, 13)\n",
       "Name: mfcc, dtype: object"
      ]
     },
     "execution_count": 17,
     "metadata": {},
     "output_type": "execute_result"
    }
   ],
   "source": [
    "# Check the shape of the first 5 mfccs\n",
    "train_data_new[\"mfcc\"].apply(lambda x: x.shape).head()"
   ]
  },
  {
   "cell_type": "code",
   "execution_count": 18,
   "metadata": {},
   "outputs": [],
   "source": [
    "# Calculate the delta and delta-delta of the MFCC\n",
    "train_data_new[\"mfcc_delta\"] = train_data_new[\"mfcc\"].apply(\n",
    "    lambda x: librosa.feature.delta(x)\n",
    ")\n",
    "\n",
    "train_data_new[\"mfcc_delta2\"] = train_data_new[\"mfcc\"].apply(\n",
    "    lambda x: librosa.feature.delta(x, order=2)\n",
    ")"
   ]
  },
  {
   "cell_type": "code",
   "execution_count": 19,
   "metadata": {},
   "outputs": [],
   "source": [
    "# Vecterize the MFCC, MFCC delta and MFCC delta-delta into a single vector called `mfcc_vect`\n",
    "# Reshape the `mfcc`, `mfcc_delta` and `mfcc_delta2` to be 1D array and concatenate them into a single vector\n",
    "train_data_new[\"mfcc_vect\"] = train_data_new.apply(\n",
    "    lambda x: np.concatenate(\n",
    "        (\n",
    "            x[\"mfcc\"].reshape(-1),\n",
    "            x[\"mfcc_delta\"].reshape(-1),\n",
    "            x[\"mfcc_delta2\"].reshape(-1),\n",
    "        )\n",
    "    ),\n",
    "    axis=1,\n",
    ")"
   ]
  },
  {
   "cell_type": "code",
   "execution_count": 20,
   "metadata": {},
   "outputs": [
    {
     "data": {
      "text/plain": [
       "0    (195,)\n",
       "1    (195,)\n",
       "2    (195,)\n",
       "3    (195,)\n",
       "4    (195,)\n",
       "Name: mfcc_vect, dtype: object"
      ]
     },
     "execution_count": 20,
     "metadata": {},
     "output_type": "execute_result"
    }
   ],
   "source": [
    "\n",
    "# Take a look at the shape of the first few `mfcc_vect`\n",
    "train_data_new[\"mfcc_vect\"].head().apply(lambda x: x.shape)"
   ]
  },
  {
   "cell_type": "code",
   "execution_count": 21,
   "metadata": {},
   "outputs": [
    {
     "data": {
      "text/html": [
       "<div>\n",
       "<style scoped>\n",
       "    .dataframe tbody tr th:only-of-type {\n",
       "        vertical-align: middle;\n",
       "    }\n",
       "\n",
       "    .dataframe tbody tr th {\n",
       "        vertical-align: top;\n",
       "    }\n",
       "\n",
       "    .dataframe thead th {\n",
       "        text-align: right;\n",
       "    }\n",
       "</style>\n",
       "<table border=\"1\" class=\"dataframe\">\n",
       "  <thead>\n",
       "    <tr style=\"text-align: right;\">\n",
       "      <th></th>\n",
       "      <th>class</th>\n",
       "      <th>phonetic_transcription</th>\n",
       "      <th>wav_array</th>\n",
       "      <th>wav_array_stretched</th>\n",
       "      <th>mfcc</th>\n",
       "      <th>mfcc_delta</th>\n",
       "      <th>mfcc_delta2</th>\n",
       "      <th>mfcc_vect</th>\n",
       "    </tr>\n",
       "  </thead>\n",
       "  <tbody>\n",
       "    <tr>\n",
       "      <th>0</th>\n",
       "      <td>NaN</td>\n",
       "      <td>h#</td>\n",
       "      <td>[-0.00021362305, 6.1035156e-05, 3.0517578e-05,...</td>\n",
       "      <td>[-0.00019364445, 5.1276224e-05, 2.9005332e-05,...</td>\n",
       "      <td>[[-14.141403380124403, -32.142537287740325, -6...</td>\n",
       "      <td>[[3.2126307175321687, 3.2126307175321687, 3.21...</td>\n",
       "      <td>[[0.021265416520596193, 0.021265416520596193, ...</td>\n",
       "      <td>[-14.141403380124403, -32.142537287740325, -6....</td>\n",
       "    </tr>\n",
       "    <tr>\n",
       "      <th>1</th>\n",
       "      <td>NaN</td>\n",
       "      <td>w</td>\n",
       "      <td>[0.0002746582, 0.00033569336, 0.00024414062, 0...</td>\n",
       "      <td>[0.00024678966, 0.00030001946, 0.00020417714, ...</td>\n",
       "      <td>[[-11.325372929549259, 11.79059675707445, 3.64...</td>\n",
       "      <td>[[-1.0253147141646446, -1.0253147141646446, -1...</td>\n",
       "      <td>[[-0.0622578363308242, -0.0622578363308242, -0...</td>\n",
       "      <td>[-11.325372929549259, 11.79059675707445, 3.646...</td>\n",
       "    </tr>\n",
       "    <tr>\n",
       "      <th>2</th>\n",
       "      <td>NaN</td>\n",
       "      <td>ix</td>\n",
       "      <td>[-0.0026245117, -0.0028076172, -0.0032043457, ...</td>\n",
       "      <td>[-0.0026235995, -0.0028057476, -0.00320173, -0...</td>\n",
       "      <td>[[-8.633501664529303, 5.725676477768363, -9.82...</td>\n",
       "      <td>[[-2.4828339829167185, -2.4828339829167185, -2...</td>\n",
       "      <td>[[0.3077480790436345, 0.3077480790436345, 0.30...</td>\n",
       "      <td>[-8.633501664529303, 5.725676477768363, -9.824...</td>\n",
       "    </tr>\n",
       "    <tr>\n",
       "      <th>3</th>\n",
       "      <td>NaN</td>\n",
       "      <td>dcl</td>\n",
       "      <td>[-0.00064086914, -0.000579834, -0.00061035156,...</td>\n",
       "      <td>[-0.00064856844, -0.00059573905, -0.00062759, ...</td>\n",
       "      <td>[[-11.588682391507778, -23.473268289222037, 2....</td>\n",
       "      <td>[[0.5231936066502211, 0.5231936066502211, 0.52...</td>\n",
       "      <td>[[-2.460816802497809, -2.460816802497809, -2.4...</td>\n",
       "      <td>[-11.588682391507778, -23.473268289222037, 2.4...</td>\n",
       "    </tr>\n",
       "    <tr>\n",
       "      <th>4</th>\n",
       "      <td>NaN</td>\n",
       "      <td>s</td>\n",
       "      <td>[-0.0033569336, 0.0012207031, -0.00033569336, ...</td>\n",
       "      <td>[-0.004305704, 0.0014972175, -0.00016100431, -...</td>\n",
       "      <td>[[-4.460912743378205, -47.43519524861441, 13.6...</td>\n",
       "      <td>[[2.6067739023457146, 2.6067739023457146, 2.60...</td>\n",
       "      <td>[[-0.6175428710988927, -0.6175428710988927, -0...</td>\n",
       "      <td>[-4.460912743378205, -47.43519524861441, 13.66...</td>\n",
       "    </tr>\n",
       "  </tbody>\n",
       "</table>\n",
       "</div>"
      ],
      "text/plain": [
       "  class phonetic_transcription   \n",
       "0   NaN                     h#  \\\n",
       "1   NaN                      w   \n",
       "2   NaN                     ix   \n",
       "3   NaN                    dcl   \n",
       "4   NaN                      s   \n",
       "\n",
       "                                           wav_array   \n",
       "0  [-0.00021362305, 6.1035156e-05, 3.0517578e-05,...  \\\n",
       "1  [0.0002746582, 0.00033569336, 0.00024414062, 0...   \n",
       "2  [-0.0026245117, -0.0028076172, -0.0032043457, ...   \n",
       "3  [-0.00064086914, -0.000579834, -0.00061035156,...   \n",
       "4  [-0.0033569336, 0.0012207031, -0.00033569336, ...   \n",
       "\n",
       "                                 wav_array_stretched   \n",
       "0  [-0.00019364445, 5.1276224e-05, 2.9005332e-05,...  \\\n",
       "1  [0.00024678966, 0.00030001946, 0.00020417714, ...   \n",
       "2  [-0.0026235995, -0.0028057476, -0.00320173, -0...   \n",
       "3  [-0.00064856844, -0.00059573905, -0.00062759, ...   \n",
       "4  [-0.004305704, 0.0014972175, -0.00016100431, -...   \n",
       "\n",
       "                                                mfcc   \n",
       "0  [[-14.141403380124403, -32.142537287740325, -6...  \\\n",
       "1  [[-11.325372929549259, 11.79059675707445, 3.64...   \n",
       "2  [[-8.633501664529303, 5.725676477768363, -9.82...   \n",
       "3  [[-11.588682391507778, -23.473268289222037, 2....   \n",
       "4  [[-4.460912743378205, -47.43519524861441, 13.6...   \n",
       "\n",
       "                                          mfcc_delta   \n",
       "0  [[3.2126307175321687, 3.2126307175321687, 3.21...  \\\n",
       "1  [[-1.0253147141646446, -1.0253147141646446, -1...   \n",
       "2  [[-2.4828339829167185, -2.4828339829167185, -2...   \n",
       "3  [[0.5231936066502211, 0.5231936066502211, 0.52...   \n",
       "4  [[2.6067739023457146, 2.6067739023457146, 2.60...   \n",
       "\n",
       "                                         mfcc_delta2   \n",
       "0  [[0.021265416520596193, 0.021265416520596193, ...  \\\n",
       "1  [[-0.0622578363308242, -0.0622578363308242, -0...   \n",
       "2  [[0.3077480790436345, 0.3077480790436345, 0.30...   \n",
       "3  [[-2.460816802497809, -2.460816802497809, -2.4...   \n",
       "4  [[-0.6175428710988927, -0.6175428710988927, -0...   \n",
       "\n",
       "                                           mfcc_vect  \n",
       "0  [-14.141403380124403, -32.142537287740325, -6....  \n",
       "1  [-11.325372929549259, 11.79059675707445, 3.646...  \n",
       "2  [-8.633501664529303, 5.725676477768363, -9.824...  \n",
       "3  [-11.588682391507778, -23.473268289222037, 2.4...  \n",
       "4  [-4.460912743378205, -47.43519524861441, 13.66...  "
      ]
     },
     "execution_count": 21,
     "metadata": {},
     "output_type": "execute_result"
    }
   ],
   "source": [
    "train_data_new.head()"
   ]
  },
  {
   "cell_type": "markdown",
   "metadata": {},
   "source": [
    "Another thing is that for the purpose of training neural network, we want to have a index label for each transcription. Let's take a look of how many different phonemes are there in the training set."
   ]
  },
  {
   "cell_type": "code",
   "execution_count": 22,
   "metadata": {},
   "outputs": [
    {
     "name": "stdout",
     "output_type": "stream",
     "text": [
      "Number of unique phonemes: 61\n",
      "Index(['h#', 'ix', 's', 'n', 'iy', 'tcl', 'r', 'kcl', 'l', 'ih', 'dcl', 'k',\n",
      "       't', 'ae', 'm', 'eh', 'z', 'ax', 'q', 'd', 'axr', 'w', 'aa', 'ao', 'dh',\n",
      "       'dx', 'pcl', 'p', 'ay', 'ah', 'ey', 'sh', 'gcl', 'f', 'b', 'ow', 'er',\n",
      "       'g', 'v', 'bcl', 'ux', 'y', 'epi', 'ng', 'jh', 'hv', 'nx', 'hh', 'pau',\n",
      "       'el', 'ch', 'th', 'aw', 'en', 'oy', 'uw', 'uh', 'ax-h', 'zh', 'em',\n",
      "       'eng'],\n",
      "      dtype='object', name='phonetic_transcription')\n"
     ]
    }
   ],
   "source": [
    "unique_phonemes = train_data_new['phonetic_transcription'].value_counts()\n",
    "print(f\"Number of unique phonemes: {len(unique_phonemes)}\")\n",
    "# Print out all the unique phonemes\n",
    "print(unique_phonemes.index)"
   ]
  },
  {
   "cell_type": "markdown",
   "metadata": {},
   "source": [
    "Among the above phonemes, \"h#\", \"epi\", \"pau\" are silence, which is not very useful in our research. So we can remove them from the phoneme set."
   ]
  },
  {
   "cell_type": "code",
   "execution_count": 23,
   "metadata": {},
   "outputs": [
    {
     "name": "stdout",
     "output_type": "stream",
     "text": [
      "Number of unique phonemes: 58\n",
      "{'ix': 0, 's': 1, 'n': 2, 'iy': 3, 'tcl': 4, 'r': 5, 'kcl': 6, 'l': 7, 'ih': 8, 'dcl': 9, 'k': 10, 't': 11, 'ae': 12, 'm': 13, 'eh': 14, 'z': 15, 'ax': 16, 'q': 17, 'd': 18, 'axr': 19, 'w': 20, 'aa': 21, 'ao': 22, 'dh': 23, 'dx': 24, 'pcl': 25, 'p': 26, 'ay': 27, 'ah': 28, 'ey': 29, 'sh': 30, 'gcl': 31, 'f': 32, 'b': 33, 'ow': 34, 'er': 35, 'g': 36, 'v': 37, 'bcl': 38, 'ux': 39, 'y': 40, 'ng': 41, 'jh': 42, 'hv': 43, 'nx': 44, 'hh': 45, 'el': 46, 'ch': 47, 'th': 48, 'aw': 49, 'en': 50, 'oy': 51, 'uw': 52, 'uh': 53, 'ax-h': 54, 'zh': 55, 'em': 56, 'eng': 57}\n"
     ]
    }
   ],
   "source": [
    "# Remove the rows where `phonetic_transcription`s are \"h#\", \"epi\", \"pau\"\n",
    "# We will use the DataFrame's boolean indexing to filter out the rows where `phonetic_transcription` is \"h#\", \"epi\", or \"pau\"\n",
    "train_data_new = train_data_new[~train_data_new['phonetic_transcription'].isin([\"h#\", \"epi\", \"pau\"])]\n",
    "\n",
    "# Check the number of unique phonemes again\n",
    "unique_phonemes = train_data_new['phonetic_transcription'].value_counts()\n",
    "print(f\"Number of unique phonemes: {len(unique_phonemes)}\")\n",
    "\n",
    "# Index the phonemes with integers\n",
    "phoneme_to_index = {phoneme: index for index, phoneme in enumerate(unique_phonemes.index)}\n",
    "print(phoneme_to_index)\n",
    "\n",
    "# Change the `class` variable to be the index of the phoneme\n",
    "train_data_new[\"class\"] = train_data_new[\"phonetic_transcription\"].apply(\n",
    "    lambda x: phoneme_to_index[x]\n",
    ")"
   ]
  },
  {
   "cell_type": "code",
   "execution_count": 24,
   "metadata": {},
   "outputs": [
    {
     "data": {
      "text/html": [
       "<div>\n",
       "<style scoped>\n",
       "    .dataframe tbody tr th:only-of-type {\n",
       "        vertical-align: middle;\n",
       "    }\n",
       "\n",
       "    .dataframe tbody tr th {\n",
       "        vertical-align: top;\n",
       "    }\n",
       "\n",
       "    .dataframe thead th {\n",
       "        text-align: right;\n",
       "    }\n",
       "</style>\n",
       "<table border=\"1\" class=\"dataframe\">\n",
       "  <thead>\n",
       "    <tr style=\"text-align: right;\">\n",
       "      <th></th>\n",
       "      <th>class</th>\n",
       "      <th>phonetic_transcription</th>\n",
       "      <th>wav_array</th>\n",
       "      <th>wav_array_stretched</th>\n",
       "      <th>mfcc</th>\n",
       "      <th>mfcc_delta</th>\n",
       "      <th>mfcc_delta2</th>\n",
       "      <th>mfcc_vect</th>\n",
       "    </tr>\n",
       "  </thead>\n",
       "  <tbody>\n",
       "    <tr>\n",
       "      <th>1</th>\n",
       "      <td>20</td>\n",
       "      <td>w</td>\n",
       "      <td>[0.0002746582, 0.00033569336, 0.00024414062, 0...</td>\n",
       "      <td>[0.00024678966, 0.00030001946, 0.00020417714, ...</td>\n",
       "      <td>[[-11.325372929549259, 11.79059675707445, 3.64...</td>\n",
       "      <td>[[-1.0253147141646446, -1.0253147141646446, -1...</td>\n",
       "      <td>[[-0.0622578363308242, -0.0622578363308242, -0...</td>\n",
       "      <td>[-11.325372929549259, 11.79059675707445, 3.646...</td>\n",
       "    </tr>\n",
       "    <tr>\n",
       "      <th>2</th>\n",
       "      <td>0</td>\n",
       "      <td>ix</td>\n",
       "      <td>[-0.0026245117, -0.0028076172, -0.0032043457, ...</td>\n",
       "      <td>[-0.0026235995, -0.0028057476, -0.00320173, -0...</td>\n",
       "      <td>[[-8.633501664529303, 5.725676477768363, -9.82...</td>\n",
       "      <td>[[-2.4828339829167185, -2.4828339829167185, -2...</td>\n",
       "      <td>[[0.3077480790436345, 0.3077480790436345, 0.30...</td>\n",
       "      <td>[-8.633501664529303, 5.725676477768363, -9.824...</td>\n",
       "    </tr>\n",
       "    <tr>\n",
       "      <th>3</th>\n",
       "      <td>9</td>\n",
       "      <td>dcl</td>\n",
       "      <td>[-0.00064086914, -0.000579834, -0.00061035156,...</td>\n",
       "      <td>[-0.00064856844, -0.00059573905, -0.00062759, ...</td>\n",
       "      <td>[[-11.588682391507778, -23.473268289222037, 2....</td>\n",
       "      <td>[[0.5231936066502211, 0.5231936066502211, 0.52...</td>\n",
       "      <td>[[-2.460816802497809, -2.460816802497809, -2.4...</td>\n",
       "      <td>[-11.588682391507778, -23.473268289222037, 2.4...</td>\n",
       "    </tr>\n",
       "    <tr>\n",
       "      <th>4</th>\n",
       "      <td>1</td>\n",
       "      <td>s</td>\n",
       "      <td>[-0.0033569336, 0.0012207031, -0.00033569336, ...</td>\n",
       "      <td>[-0.004305704, 0.0014972175, -0.00016100431, -...</td>\n",
       "      <td>[[-4.460912743378205, -47.43519524861441, 13.6...</td>\n",
       "      <td>[[2.6067739023457146, 2.6067739023457146, 2.60...</td>\n",
       "      <td>[[-0.6175428710988927, -0.6175428710988927, -0...</td>\n",
       "      <td>[-4.460912743378205, -47.43519524861441, 13.66...</td>\n",
       "    </tr>\n",
       "    <tr>\n",
       "      <th>5</th>\n",
       "      <td>28</td>\n",
       "      <td>ah</td>\n",
       "      <td>[0.001373291, 0.002380371, -0.00061035156, -0....</td>\n",
       "      <td>[0.0014771336, 0.0023819834, -0.0005665347, -0...</td>\n",
       "      <td>[[-5.976354937863114, -0.5050376288799044, -3....</td>\n",
       "      <td>[[-0.9198910335358321, -0.9198910335358321, -0...</td>\n",
       "      <td>[[1.7215692629585577, 1.7215692629585577, 1.72...</td>\n",
       "      <td>[-5.976354937863114, -0.5050376288799044, -3.7...</td>\n",
       "    </tr>\n",
       "  </tbody>\n",
       "</table>\n",
       "</div>"
      ],
      "text/plain": [
       "   class phonetic_transcription   \n",
       "1     20                      w  \\\n",
       "2      0                     ix   \n",
       "3      9                    dcl   \n",
       "4      1                      s   \n",
       "5     28                     ah   \n",
       "\n",
       "                                           wav_array   \n",
       "1  [0.0002746582, 0.00033569336, 0.00024414062, 0...  \\\n",
       "2  [-0.0026245117, -0.0028076172, -0.0032043457, ...   \n",
       "3  [-0.00064086914, -0.000579834, -0.00061035156,...   \n",
       "4  [-0.0033569336, 0.0012207031, -0.00033569336, ...   \n",
       "5  [0.001373291, 0.002380371, -0.00061035156, -0....   \n",
       "\n",
       "                                 wav_array_stretched   \n",
       "1  [0.00024678966, 0.00030001946, 0.00020417714, ...  \\\n",
       "2  [-0.0026235995, -0.0028057476, -0.00320173, -0...   \n",
       "3  [-0.00064856844, -0.00059573905, -0.00062759, ...   \n",
       "4  [-0.004305704, 0.0014972175, -0.00016100431, -...   \n",
       "5  [0.0014771336, 0.0023819834, -0.0005665347, -0...   \n",
       "\n",
       "                                                mfcc   \n",
       "1  [[-11.325372929549259, 11.79059675707445, 3.64...  \\\n",
       "2  [[-8.633501664529303, 5.725676477768363, -9.82...   \n",
       "3  [[-11.588682391507778, -23.473268289222037, 2....   \n",
       "4  [[-4.460912743378205, -47.43519524861441, 13.6...   \n",
       "5  [[-5.976354937863114, -0.5050376288799044, -3....   \n",
       "\n",
       "                                          mfcc_delta   \n",
       "1  [[-1.0253147141646446, -1.0253147141646446, -1...  \\\n",
       "2  [[-2.4828339829167185, -2.4828339829167185, -2...   \n",
       "3  [[0.5231936066502211, 0.5231936066502211, 0.52...   \n",
       "4  [[2.6067739023457146, 2.6067739023457146, 2.60...   \n",
       "5  [[-0.9198910335358321, -0.9198910335358321, -0...   \n",
       "\n",
       "                                         mfcc_delta2   \n",
       "1  [[-0.0622578363308242, -0.0622578363308242, -0...  \\\n",
       "2  [[0.3077480790436345, 0.3077480790436345, 0.30...   \n",
       "3  [[-2.460816802497809, -2.460816802497809, -2.4...   \n",
       "4  [[-0.6175428710988927, -0.6175428710988927, -0...   \n",
       "5  [[1.7215692629585577, 1.7215692629585577, 1.72...   \n",
       "\n",
       "                                           mfcc_vect  \n",
       "1  [-11.325372929549259, 11.79059675707445, 3.646...  \n",
       "2  [-8.633501664529303, 5.725676477768363, -9.824...  \n",
       "3  [-11.588682391507778, -23.473268289222037, 2.4...  \n",
       "4  [-4.460912743378205, -47.43519524861441, 13.66...  \n",
       "5  [-5.976354937863114, -0.5050376288799044, -3.7...  "
      ]
     },
     "execution_count": 24,
     "metadata": {},
     "output_type": "execute_result"
    }
   ],
   "source": [
    "# Take a look at the first few rows of `train_data_new`\n",
    "train_data_new.head()"
   ]
  },
  {
   "cell_type": "markdown",
   "metadata": {},
   "source": [
    "Now, let's prepare the data for the core test set."
   ]
  },
  {
   "cell_type": "code",
   "execution_count": 25,
   "metadata": {},
   "outputs": [],
   "source": [
    "# Create a `DataFrame` called `core_test_data` to store the information of the core test set\n",
    "core_test_data = pd.DataFrame(\n",
    "    columns=[\n",
    "        \"class\",\n",
    "        \"phonetic_transcription\",\n",
    "        \"wav_array\",\n",
    "    ]\n",
    ")\n",
    "\n",
    "wavs = []\n",
    "transcriptions = []\n",
    "classes = []\n",
    "# Iterate through the rows of `test_path_no_ext`\n",
    "for path_no_ext in test_path_no_ext:\n",
    "    wav_path = TIMIT / \"data\" / Path(path_no_ext + \".WAV.wav\")\n",
    "    wav, samplerate = librosa.load(\n",
    "        wav_path, sr=None\n",
    "    )  # set `sr=None` to get the original sampling rate\n",
    "    phn_path = TIMIT / \"data\" / Path(path_no_ext + \".phn\")\n",
    "    with open(phn_path, \"r\") as f:\n",
    "        for line in f:\n",
    "            start, end, transcription = line.split()\n",
    "            start, end = int(start), int(end)\n",
    "            wavs.append(wav[start:end])\n",
    "            transcriptions.append(transcription)\n",
    "# Concat `wavs` and `transcriptions` to `core_test_data`\n",
    "core_test_data = pd.concat(\n",
    "    [\n",
    "        core_test_data,\n",
    "        pd.DataFrame(\n",
    "            {\n",
    "                \"wav_array\": wavs,\n",
    "                \"phonetic_transcription\": transcriptions,\n",
    "            }\n",
    "        ),\n",
    "    ],\n",
    "    ignore_index=True,\n",
    ")"
   ]
  },
  {
   "cell_type": "code",
   "execution_count": 26,
   "metadata": {},
   "outputs": [
    {
     "name": "stdout",
     "output_type": "stream",
     "text": [
      "   class phonetic_transcription   \n",
      "1     23                     dh  \\\n",
      "2      8                     ih   \n",
      "3      1                      s   \n",
      "4     38                    bcl   \n",
      "5     33                      b   \n",
      "\n",
      "                                           wav_array  \n",
      "1  [0.00024414062, 0.0005493164, 0.00045776367, 0...  \n",
      "2  [-0.0034179688, -0.0035095215, -0.0036621094, ...  \n",
      "3  [0.0026550293, 0.0030517578, 0.0038757324, 0.0...  \n",
      "4  [-0.0010375977, -0.00030517578, 0.00018310547,...  \n",
      "5  [3.0517578e-05, -6.1035156e-05, 9.1552734e-05,...  \n"
     ]
    }
   ],
   "source": [
    "# Filter out the rows where `phonetic_transcription` is \"h#\", \"epi\", or \"pau\"\n",
    "core_test_data = core_test_data[~core_test_data['phonetic_transcription'].isin([\"h#\", \"epi\", \"pau\"])]\n",
    "# Change the `class` variable to be the index of the phoneme\n",
    "core_test_data[\"class\"] = core_test_data[\"phonetic_transcription\"].apply(\n",
    "    lambda x: phoneme_to_index[x]\n",
    ")\n",
    "print(core_test_data.head())"
   ]
  },
  {
   "cell_type": "code",
   "execution_count": 27,
   "metadata": {},
   "outputs": [],
   "source": [
    "# Stretch the `wav_array` to the length of 1024\n",
    "core_test_data[\"wav_array_stretched\"] = core_test_data[\"wav_array\"].apply(stretch_signal)\n",
    "# Get the `mfcc_vect` of the core test set\n",
    "core_test_data[\"mfcc_vect\"] = core_test_data[\"wav_array_stretched\"].apply(\n",
    "    lambda x: np.concatenate(\n",
    "        (\n",
    "            mfcc(x, samplerate=16000).reshape(-1),\n",
    "            librosa.feature.delta(mfcc(x, samplerate=16000)).reshape(-1),\n",
    "            librosa.feature.delta(mfcc(x, samplerate=16000), order=2).reshape(-1),\n",
    "        )\n",
    "    )\n",
    ")"
   ]
  },
  {
   "cell_type": "code",
   "execution_count": 28,
   "metadata": {},
   "outputs": [
    {
     "data": {
      "text/plain": [
       "1    (195,)\n",
       "2    (195,)\n",
       "3    (195,)\n",
       "4    (195,)\n",
       "5    (195,)\n",
       "Name: mfcc_vect, dtype: object"
      ]
     },
     "execution_count": 28,
     "metadata": {},
     "output_type": "execute_result"
    }
   ],
   "source": [
    "# Test if the shape of `mfcc_vect` is (195, )\n",
    "core_test_data[\"mfcc_vect\"].apply(lambda x: x.shape).head()"
   ]
  },
  {
   "cell_type": "code",
   "execution_count": 29,
   "metadata": {},
   "outputs": [
    {
     "data": {
      "text/plain": [
       "<AxesSubplot: >"
      ]
     },
     "execution_count": 29,
     "metadata": {},
     "output_type": "execute_result"
    },
    {
     "data": {
      "image/png": "[encoded data removed]",
      "text/plain": [
       "<Figure size 640x480 with 1 Axes>"
      ]
     },
     "metadata": {},
     "output_type": "display_data"
    }
   ],
   "source": [
    "# Take a look at the distribution of the first element of `mfcc_vect` of the training data\n",
    "train_data_new[\"mfcc_vect\"].apply(lambda x: x[0]).hist(bins=100)"
   ]
  },
  {
   "cell_type": "code",
   "execution_count": 30,
   "metadata": {},
   "outputs": [
    {
     "name": "stdout",
     "output_type": "stream",
     "text": [
      "[ -7.17632055  -9.18600769 -12.58601041  -7.47282439 -17.39754632\n",
      " -13.76377724 -11.9275359  -10.13499048  -2.62497108  -6.62489082\n",
      "  -2.83667144  -4.18970005  -4.52006548  -7.4509234   -7.51357338\n",
      " -11.29513359  -4.68955163 -15.59592164 -11.28890717  -9.45438739\n",
      "  -8.35050417  -0.89694192  -5.73420765  -1.27789811  -3.19725737\n",
      "  -3.6832879   -7.57726622  -7.91903792 -11.16586106  -4.75362632\n",
      " -15.50709087 -11.19543431  -9.30752709  -8.08604108  -0.89696755\n",
      "  -5.6959436   -1.36747982  -3.25105195  -3.67164548  -7.72090165\n",
      "  -8.19849563 -11.06877824  -4.8643845  -15.36683316 -11.34855244\n",
      "  -9.65747748  -8.2049448   -1.00608342  -5.69071031  -1.56530557\n",
      "  -3.38401267  -3.73698569  -8.11997425  -8.52696554 -10.6469009\n",
      "  -5.04306461 -14.90717927 -11.41138696 -10.03383444  -8.31045775\n",
      "  -1.24292141  -5.6419952   -1.8286753   -3.48962716  -3.75133624\n",
      "   0.17307409   0.17307409   0.17307409   0.17307409   0.17307409\n",
      "   0.67122106   1.24525156   1.33992433   1.69873306   1.69873306\n",
      "   1.69873306   1.69873306   1.69873306   0.34645451   0.34645451\n",
      "   0.34645451   0.34645451   0.34645451   0.61886112   1.15452227\n",
      "   1.1431682    1.51491266   1.51491266   1.51491266   1.51491266\n",
      "   1.51491266   0.39158409   0.39158409   0.39158409   0.39158409\n",
      "   0.39158409   0.65389653   1.14493688   1.13064453   1.49075201\n",
      "   1.49075201   1.49075201   1.49075201   1.49075201   0.38630598\n",
      "   0.38630598   0.38630598   0.38630598   0.38630598   0.65412435\n",
      "   1.12333367   1.12155247   1.48519312   1.48519312   1.48519312\n",
      "   1.48519312   1.48519312   0.38359242   0.38359242   0.38359242\n",
      "   0.38359242   0.38359242   0.63483964   1.06509259   1.09631597\n",
      "   1.45779054   1.45779054   1.45779054   1.45779054   1.45779054\n",
      "   1.07229085   1.07229085   1.07229085   1.07229085   1.07229085\n",
      "   0.79108752   0.59413595   0.31387784  -0.61436452  -0.61436452\n",
      "  -0.61436452  -0.61436452  -0.61436452   0.87610309   0.87610309\n",
      "   0.87610309   0.87610309   0.87610309   0.64863949   0.49759621\n",
      "   0.30350695  -0.64498657  -0.64498657  -0.64498657  -0.64498657\n",
      "  -0.64498657   0.85659925   0.85659925   0.85659925   0.85659925\n",
      "   0.85659925   0.61215422   0.4785445    0.27721919  -0.65042614\n",
      "  -0.65042614  -0.65042614  -0.65042614  -0.65042614   0.84326184\n",
      "   0.84326184   0.84326184   0.84326184   0.84326184   0.61367352\n",
      "   0.49545958   0.28617628  -0.6318286   -0.6318286   -0.6318286\n",
      "  -0.6318286   -0.6318286    0.78634654   0.78634654   0.78634654\n",
      "   0.78634654   0.78634654   0.60409847   0.52172576   0.29929591\n",
      "  -0.58397257  -0.58397257  -0.58397257  -0.58397257  -0.58397257]\n",
      "[ 2.61075145 16.61883059 13.52891653 16.33951653 15.07706121 15.56266733\n",
      " 15.26370918 14.84025312 14.58180624 13.98441124 12.05587208 11.62565162\n",
      " 10.39215509  3.01899781 18.54240932 14.65563272 16.5624117  16.16447591\n",
      " 16.23907942 15.71206334 15.70919145 15.5357372  14.57384998 12.66788722\n",
      " 12.15948829 10.92082127  3.06130911 18.69007829 14.42177694 16.56223287\n",
      " 15.9916364  16.284473   15.72776907 15.76865584 15.53439264 14.55696459\n",
      " 12.68473078 12.20995429 10.94259165  2.99391502 18.24108963 13.89897225\n",
      " 16.41110877 15.71944477 16.0826698  15.66163427 15.57979606 15.26410342\n",
      " 14.36996054 12.52562917 12.13100045 10.82297123  2.92080401 17.46284886\n",
      " 13.29825229 16.14671347 15.42384752 15.79002843 15.49409584 15.22252355\n",
      " 14.93193741 14.12284379 12.34864118 11.97287433 10.65835692  1.75730777\n",
      "  1.75730777  1.75730777  1.75730777  1.75730777  2.08039486  2.14699279\n",
      "  1.83684428  1.69550579  1.69550579  1.69550579  1.69550579  1.69550579\n",
      "  1.78506119  1.78506119  1.78506119  1.78506119  1.78506119  2.11373088\n",
      "  2.20651201  1.84329492  1.77795732  1.77795732  1.77795732  1.77795732\n",
      "  1.77795732  1.80641948  1.80641948  1.80641948  1.80641948  1.80641948\n",
      "  2.0914697   2.15513998  1.81872073  1.77824337  1.77824337  1.77824337\n",
      "  1.77824337  1.77824337  1.79524308  1.79524308  1.79524308  1.79524308\n",
      "  1.79524308  2.04263201  2.09229983  1.79554875  1.76125801  1.76125801\n",
      "  1.76125801  1.76125801  1.76125801  1.77000545  1.77000545  1.77000545\n",
      "  1.77000545  1.77000545  1.98885726  2.03066082  1.78199421  1.74548314\n",
      "  1.74548314  1.74548314  1.74548314  1.74548314  1.62684953  1.62684953\n",
      "  1.62684953  1.62684953  1.62684953  1.87496423  1.4745052   1.81999482\n",
      "  1.55124596  1.55124596  1.55124596  1.55124596  1.55124596  1.76026238\n",
      "  1.76026238  1.76026238  1.76026238  1.76026238  2.01599967  1.51314616\n",
      "  1.8712516   1.61798595  1.61798595  1.61798595  1.61798595  1.61798595\n",
      "  1.74952646  1.74952646  1.74952646  1.74952646  1.74952646  2.04175118\n",
      "  1.53367317  1.88267086  1.60228952  1.60228952  1.60228952  1.60228952\n",
      "  1.60228952  1.71562384  1.71562384  1.71562384  1.71562384  1.71562384\n",
      "  2.01863463  1.53037188  1.8727396   1.5723586   1.5723586   1.5723586\n",
      "  1.5723586   1.5723586   1.68439321  1.68439321  1.68439321  1.68439321\n",
      "  1.68439321  1.98084542  1.52027938  1.84299869  1.54631895  1.54631895\n",
      "  1.54631895  1.54631895  1.54631895]\n"
     ]
    }
   ],
   "source": [
    "# For the purpose of traning speed, we will normalize the `mfcc_vect` by z-score normalization\n",
    "# The dimension of `mfcc_vect` is (195, ), so we will normalize the `mfcc_vect` by subtracting the mean and dividing by the standard deviation\n",
    "v_mean = np.mean(train_data_new[\"mfcc_vect\"].values.tolist(), axis=0)\n",
    "print(v_mean)\n",
    "v_std = np.std(train_data_new[\"mfcc_vect\"].values.tolist(), axis=0)\n",
    "print(v_std)\n",
    "train_data_new[\"mfcc_vect_normalized\"] = train_data_new[\"mfcc_vect\"].apply(\n",
    "    lambda x: (x - v_mean) / v_std\n",
    ")\n",
    "# Normalize the `mfcc_vect` of the core test set\n",
    "core_test_data[\"mfcc_vect_normalized\"] = core_test_data[\"mfcc_vect\"].apply(\n",
    "    lambda x: (x - v_mean) / v_std\n",
    ")"
   ]
  },
  {
   "cell_type": "code",
   "execution_count": 31,
   "metadata": {},
   "outputs": [
    {
     "name": "stdout",
     "output_type": "stream",
     "text": [
      "Mean of `mfcc_vect_normalized`: 4.363791785928727e-16\n",
      "Standard deviation of `mfcc_vect_normalized`: 0.951368242147369\n"
     ]
    }
   ],
   "source": [
    "# Now the `mfcc_vect` is normalized, the mean of `mfcc_vect_normalized` should be 0 and the standard deviation should be 1, let's check it\n",
    "print(\n",
    "    f\"Mean of `mfcc_vect_normalized`: {train_data_new['mfcc_vect_normalized'].apply(np.mean).mean()}\"\n",
    ")\n",
    "print(\n",
    "    f\"Standard deviation of `mfcc_vect_normalized`: {train_data_new['mfcc_vect_normalized'].apply(np.std).mean()}\"\n",
    ")"
   ]
  },
  {
   "cell_type": "code",
   "execution_count": 32,
   "metadata": {},
   "outputs": [],
   "source": [
    "# Get `X_train` and `y_train` from `train_data_new`\n",
    "X_train = np.array(train_data_new[\"mfcc_vect_normalized\"].values.tolist())\n",
    "y_train = np.array(train_data_new[\"class\"].values.tolist())\n",
    "# Get `X_test` and `y_test` from `core_test_data`\n",
    "X_test = np.array(core_test_data[\"mfcc_vect_normalized\"].values.tolist())\n",
    "y_test = np.array(core_test_data[\"class\"].values.tolist())"
   ]
  },
  {
   "cell_type": "code",
   "execution_count": 33,
   "metadata": {},
   "outputs": [
    {
     "name": "stdout",
     "output_type": "stream",
     "text": [
      "Shape of `X_train`: (165424, 195)\n",
      "Shape of `y_train`: (165424,)\n",
      "Shape of `X_test`: (8485, 195)\n",
      "Shape of `y_test`: (8485,)\n"
     ]
    }
   ],
   "source": [
    "# Take a look at the shape of `X_train` and `y_train`\n",
    "print(f\"Shape of `X_train`: {X_train.shape}\")\n",
    "print(f\"Shape of `y_train`: {y_train.shape}\")\n",
    "# Take a look at the shape of `X_test` and `y_test`\n",
    "print(f\"Shape of `X_test`: {X_test.shape}\")\n",
    "print(f\"Shape of `y_test`: {y_test.shape}\")"
   ]
  },
  {
   "cell_type": "code",
   "execution_count": 37,
   "metadata": {},
   "outputs": [
    {
     "name": "stdout",
     "output_type": "stream",
     "text": [
      "Model: \"sequential_1\"\n",
      "_________________________________________________________________\n",
      " Layer (type)                Output Shape              Param #   \n",
      "=================================================================\n",
      " dense_3 (Dense)             (None, 195)               38220     \n",
      "                                                                 \n",
      " dense_4 (Dense)             (None, 195)               38220     \n",
      "                                                                 \n",
      " dense_5 (Dense)             (None, 195)               38220     \n",
      "                                                                 \n",
      " dense_6 (Dense)             (None, 58)                11368     \n",
      "                                                                 \n",
      "=================================================================\n",
      "Total params: 126028 (492.30 KB)\n",
      "Trainable params: 126028 (492.30 KB)\n",
      "Non-trainable params: 0 (0.00 Byte)\n",
      "_________________________________________________________________\n"
     ]
    }
   ],
   "source": [
    "import tensorflow as tf\n",
    "from tensorflow.keras import layers\n",
    "\n",
    "# define the input shape\n",
    "input_shape = (195,)\n",
    "\n",
    "# define the model\n",
    "model = tf.keras.models.Sequential(\n",
    "    [\n",
    "        layers.Dense(195, activation=\"relu\", input_shape=input_shape),\n",
    "        layers.Dense(195, activation=\"relu\"),\n",
    "        layers.Dense(195, activation=\"relu\"),\n",
    "        layers.Dense(58, activation=\"softmax\"),  # 58 classes\n",
    "    ]\n",
    ")\n",
    "\n",
    "# compile the model\n",
    "model.compile(\n",
    "    optimizer=\"adam\", loss=\"sparse_categorical_crossentropy\", metrics=[\"accuracy\"]\n",
    ")\n",
    "\n",
    "# print a summary of the model\n",
    "model.summary()"
   ]
  },
  {
   "cell_type": "code",
   "execution_count": 38,
   "metadata": {},
   "outputs": [
    {
     "name": "stdout",
     "output_type": "stream",
     "text": [
      "Epoch 1/10\n",
      "5170/5170 [==============================] - 6s 1ms/step - loss: 1.6822 - accuracy: 0.4696 - val_loss: 1.5582 - val_accuracy: 0.4955\n",
      "Epoch 2/10\n",
      "5170/5170 [==============================] - 5s 1ms/step - loss: 1.4592 - accuracy: 0.5295 - val_loss: 1.4827 - val_accuracy: 0.5180\n",
      "Epoch 3/10\n",
      "5170/5170 [==============================] - 5s 1ms/step - loss: 1.3867 - accuracy: 0.5489 - val_loss: 1.4639 - val_accuracy: 0.5241\n",
      "Epoch 4/10\n",
      "5170/5170 [==============================] - 5s 1ms/step - loss: 1.3440 - accuracy: 0.5609 - val_loss: 1.4608 - val_accuracy: 0.5352\n",
      "Epoch 5/10\n",
      "5170/5170 [==============================] - 5s 1ms/step - loss: 1.3141 - accuracy: 0.5701 - val_loss: 1.4133 - val_accuracy: 0.5420\n",
      "Epoch 6/10\n",
      "5170/5170 [==============================] - 5s 1ms/step - loss: 1.2884 - accuracy: 0.5761 - val_loss: 1.4096 - val_accuracy: 0.5466\n",
      "Epoch 7/10\n",
      "5170/5170 [==============================] - 5s 1ms/step - loss: 1.2678 - accuracy: 0.5843 - val_loss: 1.4098 - val_accuracy: 0.5492\n",
      "Epoch 8/10\n",
      "5170/5170 [==============================] - 5s 1ms/step - loss: 1.2506 - accuracy: 0.5877 - val_loss: 1.4301 - val_accuracy: 0.5461\n",
      "Epoch 9/10\n",
      "5170/5170 [==============================] - 5s 1ms/step - loss: 1.2344 - accuracy: 0.5920 - val_loss: 1.4020 - val_accuracy: 0.5558\n",
      "Epoch 10/10\n",
      "5170/5170 [==============================] - 5s 1ms/step - loss: 1.2186 - accuracy: 0.5966 - val_loss: 1.4092 - val_accuracy: 0.5542\n"
     ]
    }
   ],
   "source": [
    "history = model.fit(X_train, y_train, validation_data=(X_test, y_test), epochs=10, batch_size=32)"
   ]
  },
  {
   "cell_type": "code",
   "execution_count": 39,
   "metadata": {},
   "outputs": [
    {
     "name": "stdout",
     "output_type": "stream",
     "text": [
      "266/266 [==============================] - 0s 582us/step - loss: 1.4092 - accuracy: 0.5542\n"
     ]
    }
   ],
   "source": [
    "test_loss, test_accuracy = model.evaluate(X_test, y_test)"
   ]
  }
 ],
 "metadata": {
  "kernelspec": {
   "display_name": "Python 3",
   "language": "python",
   "name": "python3"
  },
  "language_info": {
   "codemirror_mode": {
    "name": "ipython",
    "version": 3
   },
   "file_extension": ".py",
   "mimetype": "text/x-python",
   "name": "python",
   "nbconvert_exporter": "python",
   "pygments_lexer": "ipython3",
   "version": "3.10.7"
  },
  "orig_nbformat": 4
 },
 "nbformat": 4,
 "nbformat_minor": 2
}
