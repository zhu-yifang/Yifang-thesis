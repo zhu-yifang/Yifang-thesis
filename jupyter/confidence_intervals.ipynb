{
 "cells": [
  {
   "cell_type": "code",
   "execution_count": 1,
   "metadata": {},
   "outputs": [
    {
     "name": "stdout",
     "output_type": "stream",
     "text": [
      "BootstrapResult(confidence_interval=ConfidenceInterval(low=0.41313631363136316, high=0.4323457345734574), standard_error=0.004921145276206214)\n"
     ]
    }
   ],
   "source": [
    "import pandas as pd\n",
    "from scipy.stats import bootstrap\n",
    "import numpy as np\n",
    "\n",
    "data = pd.read_csv('test_result.csv')\n",
    "# if True phone == Predicted phone, add 1 to correct_num\n",
    "data['correct'] = data['True phone'] == data['Predicted phone']\n",
    "# get the accuracy\n",
    "\n",
    "# get the confidence interval by bootstrapping\n",
    "bootstrap_ci = bootstrap(\n",
    "    data=(list(data['correct']),),\n",
    "    statistic=lambda results, axis: sum(results) / len(results),\n",
    "    confidence_level=0.95,\n",
    "    method='percentile',\n",
    "    random_state=114514,\n",
    ")\n",
    "print(bootstrap_ci)"
   ]
  },
  {
   "cell_type": "code",
   "execution_count": 2,
   "metadata": {},
   "outputs": [
    {
     "name": "stdout",
     "output_type": "stream",
     "text": [
      "BootstrapResult(confidence_interval=ConfidenceInterval(low=0.4655415541554156, high=0.48544854485448546), standard_error=0.005007509236434126)\n"
     ]
    }
   ],
   "source": [
    "# get the confidence interval for the stretched results\n",
    "data = pd.read_csv('stretched_result_1000.csv')\n",
    "# if True phone == Predicted phone, add 1 to correct_num\n",
    "data['correct'] = data['True phone'] == data['Predicted phone']\n",
    "# get the accuracy\n",
    "\n",
    "# get the confidence interval by bootstrapping\n",
    "bootstrap_ci = bootstrap(\n",
    "    data=(list(data['correct']),),\n",
    "    statistic=lambda results, axis: sum(results) / len(results),\n",
    "    confidence_level=0.95,\n",
    "    method='percentile',\n",
    "    random_state=114514,\n",
    ")\n",
    "print(bootstrap_ci)"
   ]
  }
 ],
 "metadata": {
  "kernelspec": {
   "display_name": "Python 3",
   "language": "python",
   "name": "python3"
  },
  "language_info": {
   "codemirror_mode": {
    "name": "ipython",
    "version": 3
   },
   "file_extension": ".py",
   "mimetype": "text/x-python",
   "name": "python",
   "nbconvert_exporter": "python",
   "pygments_lexer": "ipython3",
   "version": "3.10.7"
  },
  "orig_nbformat": 4,
  "vscode": {
   "interpreter": {
    "hash": "aee8b7b246df8f9039afb4144a1f6fd8d2ca17a180786b69acc140d282b71a49"
   }
  }
 },
 "nbformat": 4,
 "nbformat_minor": 2
}
